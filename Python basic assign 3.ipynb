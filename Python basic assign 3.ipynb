{
 "cells": [
  {
   "cell_type": "markdown",
   "id": "d702fd7f",
   "metadata": {},
   "source": [
    "## Assignment 3 Solutions\n",
    "\n",
    "### 1. Why are functions advantageous to have in your programs?\n",
    "#### Ans:\n",
    "     Functions reduce the need for duplicate code. This makes programs shorter, easier to read, and easier to update. The         main advantage of functions is code Reusability."
   ]
  },
  {
   "cell_type": "markdown",
   "id": "d255ae56",
   "metadata": {},
   "source": [
    "### 2. When does the code in a function run: when it's specified or when it's called?\n",
    "#### Ans:\n",
    "      The code in a function executes when the function is called, not when the function is specified."
   ]
  },
  {
   "cell_type": "markdown",
   "id": "d917bb2e",
   "metadata": {},
   "source": [
    "### 3. What statement creates a function?\n",
    "#### Ans:\n",
    "     The def statement defines a function\n",
    "#### Syntax of Function:\n",
    "     def function_name(parameters):\n",
    "    \"\"\"doc string\"\"\"          \n",
    "    -----function body-----\n",
    "    -----function body-----\n",
    "    return value"
   ]
  },
  {
   "cell_type": "markdown",
   "id": "174378d0",
   "metadata": {},
   "source": [
    "### 4. What is the difference between a function and a function call?\n",
    "#### Ans:\n",
    "     A function is procedure to achieve a particular result. while function call is using this function to achive that task.   Using a function to do a particular task any point in program is called as function call."
   ]
  },
  {
   "cell_type": "markdown",
   "id": "3610cad6",
   "metadata": {},
   "source": [
    "### 5. How many global scopes are there in a Python program? How many local scopes?\n",
    "#### Ans:\n",
    "     There is one global scope, and a local scope is created whenever a function is called."
   ]
  },
  {
   "cell_type": "markdown",
   "id": "9f613608",
   "metadata": {},
   "source": [
    "### 6. What happens to variables in a local scope when the function call returns?\n",
    "#### Ans:\n",
    "     When a function returns, the local scope is destroyed, and all the variables in it are forgotten."
   ]
  },
  {
   "cell_type": "markdown",
   "id": "6a418f9e",
   "metadata": {},
   "source": [
    "### 7. What is the concept of a return value? Is it possible to have a return value in an expression?\n",
    "#### Ans:\n",
    "     A return value is the value that a function call evaluates to. Like any value, a return value can be used as part of an expression."
   ]
  },
  {
   "cell_type": "markdown",
   "id": "ad78f2eb",
   "metadata": {},
   "source": [
    "### 8. If a function does not have a return statement, what is the return value of a call to that function?\n",
    "#### Ans:\n",
    "     If there is no return statement for a function, its return value is None."
   ]
  },
  {
   "cell_type": "markdown",
   "id": "87ff23d2",
   "metadata": {},
   "source": [
    "### 9. How do you make a function variable refer to the global variable?\n",
    "#### Ans:\n",
    "    A global statement will force a variable in a function to refer to the global variable. If you want to refer to a global variable in a function, you can use the global keyword to declare which variables are global."
   ]
  },
  {
   "cell_type": "markdown",
   "id": "e882a63e",
   "metadata": {},
   "source": [
    "### 10. What is the data type of None?\n",
    "#### Ans:\n",
    "     The data type of None is NoneType."
   ]
  },
  {
   "cell_type": "markdown",
   "id": "26d28488",
   "metadata": {},
   "source": [
    "###  11. What does the sentence import areallyourpetsnamederic do?\n",
    "#### Ans:\n",
    "     That import statement imports a module named areallyourpetsnamederic."
   ]
  },
  {
   "cell_type": "markdown",
   "id": "6f4dcf90",
   "metadata": {},
   "source": [
    "### 12. If you had a bacon() feature in a spam module, what would you call it after importing spam?\n",
    "#### Ans:\n",
    "     This function can be called with spam.bacon()."
   ]
  },
  {
   "cell_type": "markdown",
   "id": "2d918b43",
   "metadata": {},
   "source": [
    "### 13. What can you do to save a programme from crashing if it encounters an error?\n",
    "#### Ans:\n",
    "      Place the line of code that might cause an error in a try clause and use except block to handle the error."
   ]
  },
  {
   "cell_type": "markdown",
   "id": "06b94e5f",
   "metadata": {},
   "source": [
    "### 14. What is the purpose of the try clause? What is the purpose of the except clause?\n",
    "#### Ans:\n",
    "     The code that could potentially cause an error goes in the try clause. The code that executes if an error happens goes in the except clause."
   ]
  }
 ],
 "metadata": {
  "kernelspec": {
   "display_name": "Python 3 (ipykernel)",
   "language": "python",
   "name": "python3"
  },
  "language_info": {
   "codemirror_mode": {
    "name": "ipython",
    "version": 3
   },
   "file_extension": ".py",
   "mimetype": "text/x-python",
   "name": "python",
   "nbconvert_exporter": "python",
   "pygments_lexer": "ipython3",
   "version": "3.9.7"
  }
 },
 "nbformat": 4,
 "nbformat_minor": 5
}
